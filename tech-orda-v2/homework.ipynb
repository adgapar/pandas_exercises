{
 "cells": [
  {
   "cell_type": "markdown",
   "metadata": {},
   "source": [
    "# Big homework for Pandas."
   ]
  },
  {
   "cell_type": "markdown",
   "metadata": {},
   "source": [
    "Name: [complete here]"
   ]
  },
  {
   "cell_type": "markdown",
   "metadata": {},
   "source": [
    "## 0. Import packages here"
   ]
  },
  {
   "cell_type": "code",
   "execution_count": null,
   "metadata": {},
   "outputs": [],
   "source": []
  },
  {
   "cell_type": "markdown",
   "metadata": {},
   "source": [
    "## 1. Euro 2012 stats\n",
    "\n",
    "\n",
    "The problems below to be solved using the csv file `Euro_2012_stats.csv`. Assign the dataframe to a variable called `euro12`"
   ]
  },
  {
   "cell_type": "code",
   "execution_count": null,
   "metadata": {},
   "outputs": [],
   "source": []
  },
  {
   "cell_type": "markdown",
   "metadata": {},
   "source": [
    "#### 1.1 Plot distribution of Goals scored"
   ]
  },
  {
   "cell_type": "code",
   "execution_count": null,
   "metadata": {},
   "outputs": [],
   "source": []
  },
  {
   "cell_type": "markdown",
   "metadata": {},
   "source": [
    "#### 1.2 How many teams particiapted in the Euro 2012?"
   ]
  },
  {
   "cell_type": "code",
   "execution_count": null,
   "metadata": {},
   "outputs": [],
   "source": []
  },
  {
   "cell_type": "markdown",
   "metadata": {},
   "source": [
    "#### 1.3 How many stats were recorded in the dataset?"
   ]
  },
  {
   "cell_type": "code",
   "execution_count": null,
   "metadata": {},
   "outputs": [],
   "source": []
  },
  {
   "cell_type": "markdown",
   "metadata": {},
   "source": [
    "#### 1.4 Show only the columns Team, Yellow Cards and Red Cards and assign them to a dataframe called `discipline`"
   ]
  },
  {
   "cell_type": "code",
   "execution_count": null,
   "metadata": {},
   "outputs": [],
   "source": []
  },
  {
   "cell_type": "markdown",
   "metadata": {},
   "source": [
    "#### 1.5 Sort the teams by Red Cards, then by Yellow cards (from highest to lowest)"
   ]
  },
  {
   "cell_type": "code",
   "execution_count": null,
   "metadata": {},
   "outputs": [],
   "source": []
  },
  {
   "cell_type": "markdown",
   "metadata": {},
   "source": [
    "#### 1.6 Calculate the mean Yellow Cards given per Team. Round it to 1 decimal point"
   ]
  },
  {
   "cell_type": "code",
   "execution_count": null,
   "metadata": {},
   "outputs": [],
   "source": []
  },
  {
   "cell_type": "markdown",
   "metadata": {},
   "source": [
    "#### 1.7 Show teams that scored more than 6 goals"
   ]
  },
  {
   "cell_type": "code",
   "execution_count": null,
   "metadata": {},
   "outputs": [],
   "source": []
  },
  {
   "cell_type": "markdown",
   "metadata": {},
   "source": [
    "#### 1.8 Show teams that start with G"
   ]
  },
  {
   "cell_type": "code",
   "execution_count": null,
   "metadata": {},
   "outputs": [],
   "source": []
  },
  {
   "cell_type": "markdown",
   "metadata": {},
   "source": [
    "#### 1.9 Present only Shooting Accuracy from Sweden, Spain, Croatia, France, Portugal"
   ]
  },
  {
   "cell_type": "code",
   "execution_count": null,
   "metadata": {},
   "outputs": [],
   "source": []
  },
  {
   "cell_type": "markdown",
   "metadata": {},
   "source": [
    "#### 1.10 What metric is a good predictor of Goals?*\n",
    "\n",
    "*Hint: this is what Barcelona fans, coaches, players believe. Real Madrid fans (like me) consider it overrated.  "
   ]
  },
  {
   "cell_type": "code",
   "execution_count": null,
   "metadata": {},
   "outputs": [],
   "source": []
  },
  {
   "cell_type": "markdown",
   "metadata": {},
   "source": [
    "#### 1.11 What two different metrics are the most correlated?*\n",
    "\n",
    "*answer however you like, it is a bit complex"
   ]
  },
  {
   "cell_type": "code",
   "execution_count": null,
   "metadata": {},
   "outputs": [],
   "source": []
  },
  {
   "cell_type": "markdown",
   "metadata": {},
   "source": [
    "## 2. Alcohol consumption\n",
    "\n",
    "The problems below to be solved using the csv file `global_alcohol_consumption.csv`. Assign the dataframe to a variable called `drinks`"
   ]
  },
  {
   "cell_type": "code",
   "execution_count": null,
   "metadata": {},
   "outputs": [],
   "source": []
  },
  {
   "cell_type": "markdown",
   "metadata": {},
   "source": [
    "#### 2.1 Which continent drinks more beer on average?\n",
    "\n",
    "`Answer`: ?"
   ]
  },
  {
   "cell_type": "code",
   "execution_count": null,
   "metadata": {},
   "outputs": [],
   "source": []
  },
  {
   "cell_type": "markdown",
   "metadata": {},
   "source": [
    "#### 2.2 For each continent print the statistics for wine consumption"
   ]
  },
  {
   "cell_type": "code",
   "execution_count": null,
   "metadata": {},
   "outputs": [],
   "source": []
  },
  {
   "cell_type": "markdown",
   "metadata": {},
   "source": [
    "#### 2.3 Print the min, mean, median, max values of spirit consumption by continent"
   ]
  },
  {
   "cell_type": "code",
   "execution_count": null,
   "metadata": {},
   "outputs": [],
   "source": []
  },
  {
   "cell_type": "markdown",
   "metadata": {},
   "source": [
    "#### 2.4 How many countries are top 10% drinkers of beer? Show only 10 countries with the highest consumption.\n",
    "\n",
    "Hint: top 25% are defined as those where consumption >= 75% percentile in the dataset. \n",
    "\n",
    "\n",
    "`Answer (# countries)`: ?"
   ]
  },
  {
   "cell_type": "code",
   "execution_count": null,
   "metadata": {},
   "outputs": [],
   "source": []
  },
  {
   "cell_type": "markdown",
   "metadata": {},
   "source": [
    "#### 2.5 How many countries are top 10% drinkers measured by pure alcohol? Show only 10 countries with the highest consumption\n",
    "\n",
    "Hint: top 25% are defined as those where consumption >= 75% percentile in the dataset.\n",
    "\n",
    "\n",
    "`Answer (# countries)`: ?"
   ]
  },
  {
   "cell_type": "code",
   "execution_count": null,
   "metadata": {},
   "outputs": [],
   "source": []
  },
  {
   "cell_type": "markdown",
   "metadata": {},
   "source": [
    "#### 2.6 Create a dataframe that will contain all countries which are top 10% drinkers in at least in one category (beers, spirits, wine).\n",
    "\n",
    "Hint: the top 10% drinker is defined by having consumption >=90% percentile. \n",
    "\n",
    "The schema of desired table:\n",
    "\n",
    "| Column name | type |  description |\n",
    "|----------|----------|----------|\n",
    "| country    | str     | country name     |\n",
    "| is_top10_beer   | bool     | Is Top 10% drinker of beer |\n",
    "| is_top10_wine   | bool     | Is Top 10% drinker of wine |\n",
    "| is_top10_spirit   | bool     | Is Top 10% drinker of spirit |\n",
    "\n",
    "\n",
    "\n",
    "\n",
    "<b>Extra questions</b>:\n",
    "* How many countries? Answer: ?\n",
    "* What countries are in all 3 categories (if any)? Answer:  ?\n",
    "* What countries are in 2 categories (if any)? Answer: ?"
   ]
  },
  {
   "cell_type": "code",
   "execution_count": null,
   "metadata": {},
   "outputs": [],
   "source": []
  },
  {
   "cell_type": "markdown",
   "metadata": {},
   "source": [
    "#### 2.7 If only considering spirits, at what place Kazakhstan would be among post-Soviet Union countries?\n",
    "\n",
    "The first place would occupy country with the highest spirit consumption. \n",
    "\n",
    "\n",
    "`Answer`: ?"
   ]
  },
  {
   "cell_type": "code",
   "execution_count": null,
   "metadata": {},
   "outputs": [],
   "source": []
  },
  {
   "cell_type": "markdown",
   "metadata": {},
   "source": [
    "#### 2.8 What column has missing values? Does it somehow change above results? \n",
    "\n",
    "Extra bonus point if you can guess why it happened. "
   ]
  },
  {
   "cell_type": "code",
   "execution_count": null,
   "metadata": {},
   "outputs": [],
   "source": []
  },
  {
   "cell_type": "markdown",
   "metadata": {},
   "source": [
    "## 3. USA Crimes from 1960 to 2014\n",
    "\n",
    "\n",
    "The relevant dataset is `US_crime_rates_1960_2014.csv`. Assign the dataframe to a variable called `crime`.\n",
    "\n",
    "\n",
    "Hint: you can solve the below problems as you wish. However, I suggest to benefit from the special data type dedicated for datetimes: `datetime64[ns]`:\n",
    "\n",
    "> crime.Year = pd.to_datetime(crime.Year, format='%Y').\n",
    "\n",
    "If you agree to use it, you will need to check how to use `resample` and `offset aliases`: \n",
    "* To learn more about .resample (https://pandas.pydata.org/pandas-docs/stable/generated/pandas.DataFrame.resample.html)\n",
    "* To learn more about Offset Aliases (http://pandas.pydata.org/pandas-docs/stable/timeseries.html#offset-aliases)\n",
    "\n",
    "\n",
    "\n",
    "\n"
   ]
  },
  {
   "cell_type": "code",
   "execution_count": null,
   "metadata": {},
   "outputs": [],
   "source": []
  },
  {
   "cell_type": "markdown",
   "metadata": {},
   "source": [
    "#### 3.1 How many crimes of each type happened per decade in USA?\n",
    "\n",
    "Ignore column Total and Population. "
   ]
  },
  {
   "cell_type": "code",
   "execution_count": null,
   "metadata": {},
   "outputs": [],
   "source": []
  },
  {
   "cell_type": "markdown",
   "metadata": {},
   "source": [
    "#### 3.2 What decade was the most dangerous to live in the US?\n",
    "\n",
    "`Answer:` ?"
   ]
  },
  {
   "cell_type": "code",
   "execution_count": null,
   "metadata": {},
   "outputs": [],
   "source": []
  },
  {
   "cell_type": "markdown",
   "metadata": {},
   "source": [
    "## 4. Wind in Ireland\n",
    "\n",
    "The dataset is file `windspeed_in_ireland.csv`. Assign it to a variable called `wind`. It is a dataset containing average windspeeds (unit: knots) at 12 locations in Ireland on that day.  \n",
    "\n",
    "\n",
    "There is column called `Yr_Mo_Dy`, which is Year-Month-Day of recording. All dates must be in XX century. "
   ]
  },
  {
   "cell_type": "code",
   "execution_count": null,
   "metadata": {},
   "outputs": [],
   "source": []
  },
  {
   "cell_type": "markdown",
   "metadata": {},
   "source": [
    "#### 4.1 Fix the date Yr_Mo_Dy"
   ]
  },
  {
   "cell_type": "code",
   "execution_count": null,
   "metadata": {},
   "outputs": [],
   "source": []
  },
  {
   "cell_type": "markdown",
   "metadata": {},
   "source": [
    "#### 4.2 Compute how many values are missing for each location over the entire period"
   ]
  },
  {
   "cell_type": "code",
   "execution_count": null,
   "metadata": {},
   "outputs": [],
   "source": []
  },
  {
   "cell_type": "markdown",
   "metadata": {},
   "source": [
    "#### 4.3 Calculate the average windspeed in January for each location (across entire period)"
   ]
  },
  {
   "cell_type": "code",
   "execution_count": null,
   "metadata": {},
   "outputs": [],
   "source": []
  },
  {
   "cell_type": "markdown",
   "metadata": {},
   "source": [
    "#### 4.4 Data integrity: do we have missing dates? Do we have duplicates in dates?"
   ]
  },
  {
   "cell_type": "code",
   "execution_count": null,
   "metadata": {},
   "outputs": [],
   "source": []
  },
  {
   "cell_type": "markdown",
   "metadata": {},
   "source": [
    "#### 4.5 Calculate weekly and monthly moving average (MA) of windspeed in Dublin (location = DUB).\n",
    "\n",
    "Method .rolling() might be helpful here: https://pandas.pydata.org/docs/reference/api/pandas.DataFrame.rolling.html\n",
    "\n",
    "\n",
    "You can consider monthly as 4 weeks = 28 days. "
   ]
  },
  {
   "cell_type": "code",
   "execution_count": null,
   "metadata": {},
   "outputs": [],
   "source": []
  },
  {
   "cell_type": "markdown",
   "metadata": {},
   "source": [
    "#### 4.6 Plot Dublin actual values and Moving Averages on the same plot. Take only 1970s."
   ]
  },
  {
   "cell_type": "markdown",
   "metadata": {},
   "source": [
    "Series to be plotted: actual value, weekly and monthly MAs."
   ]
  },
  {
   "cell_type": "code",
   "execution_count": null,
   "metadata": {},
   "outputs": [],
   "source": []
  },
  {
   "cell_type": "markdown",
   "metadata": {},
   "source": [
    "#### 4.7 Categorize wind speed in Dublin as LOW, MEDIUM, HIGH.\n",
    "\n",
    "Definition of categories: \n",
    "* LOW is when windspeed is in the bottom 25% percentile (< P25)\n",
    "* HIGH is when windspeed is in the top 25% percentile (>= P75)\n",
    "* MEDIUM is everything else. \n"
   ]
  },
  {
   "cell_type": "code",
   "execution_count": null,
   "metadata": {},
   "outputs": [],
   "source": []
  },
  {
   "cell_type": "markdown",
   "metadata": {},
   "source": [
    "#### 4.8 Are there any particular months where there are more wind with HIGH category in Dublin? What about LOW? MEDIUM?"
   ]
  },
  {
   "cell_type": "code",
   "execution_count": null,
   "metadata": {},
   "outputs": [],
   "source": []
  }
 ],
 "metadata": {
  "kernelspec": {
   "display_name": "base",
   "language": "python",
   "name": "python3"
  },
  "language_info": {
   "codemirror_mode": {
    "name": "ipython",
    "version": 3
   },
   "file_extension": ".py",
   "mimetype": "text/x-python",
   "name": "python",
   "nbconvert_exporter": "python",
   "pygments_lexer": "ipython3",
   "version": "3.9.13"
  }
 },
 "nbformat": 4,
 "nbformat_minor": 2
}
